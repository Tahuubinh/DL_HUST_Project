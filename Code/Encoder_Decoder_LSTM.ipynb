{
 "cells": [
  {
   "cell_type": "code",
   "execution_count": 1,
   "id": "ead9e6c6",
   "metadata": {},
   "outputs": [
    {
     "name": "stderr",
     "output_type": "stream",
     "text": [
      "2023-02-05 20:26:01.320769: I tensorflow/core/platform/cpu_feature_guard.cc:193] This TensorFlow binary is optimized with oneAPI Deep Neural Network Library (oneDNN) to use the following CPU instructions in performance-critical operations:  AVX2 FMA\n",
      "To enable them in other operations, rebuild TensorFlow with the appropriate compiler flags.\n"
     ]
    }
   ],
   "source": [
    "import pandas as pd\n",
    "import numpy as np\n",
    "from sklearn import preprocessing\n",
    "import tensorflow as tf\n",
    "\n",
    "import matplotlib.pyplot as plt\n",
    "# tf.random.set_seed(123)\n",
    "# np.random.seed(123)\n",
    "from sklearn import metrics\n",
    "import json \n",
    "import os\n",
    "\n",
    "def timeseries_evaluation_metrics_func(y_true, y_pred):\n",
    "    \n",
    "    def mean_absolute_percentage_error(y_true, y_pred): \n",
    "        y_true, y_pred = np.array(y_true), np.array(y_pred)\n",
    "        return np.mean(np.abs((y_true - y_pred) / y_true)) * 100\n",
    "    print('Evaluation metric results:-')\n",
    "    mse = metrics.mean_squared_error(y_true, y_pred)\n",
    "    mae = metrics.mean_absolute_error(y_true, y_pred)\n",
    "    rmse = np.sqrt(metrics.mean_squared_error(y_true, y_pred))\n",
    "    mape = mean_absolute_percentage_error(y_true, y_pred)\n",
    "    r2 = metrics.r2_score(y_true, y_pred)\n",
    "    print(f'MSE is : {mse}')\n",
    "    print(f'MAE is : {mae}')\n",
    "    print(f'RMSE is : {rmse}')\n",
    "    print(f'MAPE is : {mape}')\n",
    "    print(f'R2 is : {r2}',end='\\n\\n')\n",
    "    return {'mse' : mse, 'mae' : mae, 'rmse' : rmse, 'mape' : mape, 'r2' : r2}\n",
    "    \n",
    "def custom_ts_multi_data_prep(dataset, target, start, end, window, horizon):\n",
    "    X = []\n",
    "    y = []\n",
    "    start = start + window\n",
    "    if end is None:\n",
    "        end = len(dataset) - horizon\n",
    "\n",
    "    for i in range(start, end):\n",
    "        indices = range(i-window, i)\n",
    "        X.append(dataset[indices])\n",
    "\n",
    "        indicey = range(i+1, i+1+horizon)\n",
    "        y.append(target[indicey])\n",
    "    return np.array(X), np.array(y)\n",
    "\n",
    "df = pd.read_csv(r'../Data/Panama Electricity/continuous_dataset_preprocessing.csv', parse_dates= True)\n",
    "df[\"datetime\"] = df[\"datetime\"].apply(pd.to_datetime)\n",
    "\n",
    "column_names = df.columns.tolist()\n",
    "train_column_names = df.columns.tolist()\n",
    "column_names.remove('datetime')\n",
    "train_column_names.remove('datetime')\n",
    "train_column_names.remove('nat_demand')"
   ]
  },
  {
   "cell_type": "code",
   "execution_count": 2,
   "id": "61c412ea",
   "metadata": {},
   "outputs": [],
   "source": [
    "valid = df[df['datetime'] <= '1/1/2019 23:00']\n",
    "valid = valid[valid['datetime'] > '1/1/2018 23:00']\n",
    "train = df[df['datetime'] <= '1/1/2018 23:00']\n",
    "test = df[df['datetime'] > '1/1/2019 23:00']\n",
    "\n",
    "# train['nat_demand'] = train['nat_demand'].clip(lower = 500)\n",
    "# valid['nat_demand'] = valid['nat_demand'].clip(lower = 500)\n",
    "\n",
    "x_scaler = preprocessing.MinMaxScaler()\n",
    "y_scaler = preprocessing.MinMaxScaler()\n",
    "trainX = x_scaler.fit_transform(train[column_names])\n",
    "trainY = y_scaler.fit_transform(train[['nat_demand']])\n",
    "validX = x_scaler.fit_transform(valid[column_names])\n",
    "validY = y_scaler.fit_transform(valid[['nat_demand']])"
   ]
  },
  {
   "cell_type": "code",
   "execution_count": 3,
   "id": "fa32d70f",
   "metadata": {},
   "outputs": [
    {
     "name": "stderr",
     "output_type": "stream",
     "text": [
      "2023-02-05 20:26:10.790480: I tensorflow/core/platform/cpu_feature_guard.cc:193] This TensorFlow binary is optimized with oneAPI Deep Neural Network Library (oneDNN) to use the following CPU instructions in performance-critical operations:  AVX2 FMA\n",
      "To enable them in other operations, rebuild TensorFlow with the appropriate compiler flags.\n"
     ]
    }
   ],
   "source": [
    "version = 1\n",
    "hist_window = 48 # 12, 18, 24, 30, 36, 42\n",
    "horizon = 24 # 12, 18, 24, 30, 36\n",
    "\n",
    "x_train_multi, y_train_multi = custom_ts_multi_data_prep(\n",
    "    trainX, trainY, 0, None, hist_window, horizon)\n",
    "x_val_multi, y_val_multi= custom_ts_multi_data_prep(\n",
    "    validX, validY, 0, None, hist_window, horizon)\n",
    "\n",
    "BATCH_SIZE = 128\n",
    "BUFFER_SIZE = 150\n",
    "\n",
    "train_data_multi = tf.data.Dataset.from_tensor_slices((x_train_multi, y_train_multi))\n",
    "train_data_multi = train_data_multi.cache().shuffle(BUFFER_SIZE).batch(BATCH_SIZE).repeat()\n",
    "\n",
    "val_data_multi = tf.data.Dataset.from_tensor_slices((x_val_multi, y_val_multi))\n",
    "val_data_multi = val_data_multi.batch(BATCH_SIZE).repeat()"
   ]
  },
  {
   "cell_type": "code",
   "execution_count": 4,
   "id": "318ee658",
   "metadata": {},
   "outputs": [
    {
     "name": "stdout",
     "output_type": "stream",
     "text": [
      "The new directory is created!\n",
      "Epoch 1/150\n",
      "100/100 [==============================] - 12s 67ms/step - loss: 0.0562 - val_loss: 0.0822\n",
      "Epoch 2/150\n",
      "100/100 [==============================] - 6s 56ms/step - loss: 0.0258 - val_loss: 0.0632\n",
      "Epoch 3/150\n",
      "100/100 [==============================] - 6s 62ms/step - loss: 0.0255 - val_loss: 0.0887\n",
      "Epoch 4/150\n",
      "100/100 [==============================] - 6s 65ms/step - loss: 0.0224 - val_loss: 0.0877\n",
      "Epoch 5/150\n",
      "100/100 [==============================] - 6s 64ms/step - loss: 0.0240 - val_loss: 0.1054\n",
      "Epoch 6/150\n",
      "100/100 [==============================] - 6s 64ms/step - loss: 0.0226 - val_loss: 0.0934\n",
      "Epoch 7/150\n",
      "100/100 [==============================] - 7s 65ms/step - loss: 0.0237 - val_loss: 0.0768\n",
      "Epoch 8/150\n",
      "100/100 [==============================] - 6s 65ms/step - loss: 0.0228 - val_loss: 0.0880\n",
      "Epoch 9/150\n",
      "100/100 [==============================] - 7s 65ms/step - loss: 0.0232 - val_loss: 0.0731\n",
      "Epoch 10/150\n",
      "100/100 [==============================] - 7s 71ms/step - loss: 0.0229 - val_loss: 0.0786\n",
      "Epoch 11/150\n",
      "100/100 [==============================] - 6s 65ms/step - loss: 0.0232 - val_loss: 0.0819\n",
      "Epoch 12/150\n",
      "100/100 [==============================] - 7s 66ms/step - loss: 0.0228 - val_loss: 0.0773\n",
      "Epoch 13/150\n",
      "100/100 [==============================] - 7s 67ms/step - loss: 0.0229 - val_loss: 0.0869\n",
      "Epoch 14/150\n",
      "100/100 [==============================] - 7s 67ms/step - loss: 0.0229 - val_loss: 0.0920\n",
      "Epoch 15/150\n",
      "100/100 [==============================] - 7s 67ms/step - loss: 0.0227 - val_loss: 0.0702\n",
      "Epoch 16/150\n",
      "100/100 [==============================] - 7s 67ms/step - loss: 0.0228 - val_loss: 0.0971\n",
      "Epoch 17/150\n",
      "100/100 [==============================] - 7s 68ms/step - loss: 0.0225 - val_loss: 0.0688\n",
      "Epoch 17: early stopping\n",
      "1/1 [==============================] - 1s 1s/step\n",
      "Evaluation metric results:-\n",
      "MSE is : 45293.670768508775\n",
      "MAE is : 175.8685947672526\n",
      "RMSE is : 212.823097356722\n",
      "MAPE is : 15.519025269569095\n",
      "R2 is : -0.10254163835836794\n",
      "\n"
     ]
    },
    {
     "name": "stderr",
     "output_type": "stream",
     "text": [
      "/tmp/ipykernel_7112/1034065175.py:56: FutureWarning: The behavior of `series[i:j]` with an integer-dtype index is deprecated. In a future version, this will be treated as *label-based* indexing, consistent with e.g. `series[i]` lookups. To retain the old behavior, use `series.iloc[i:j]`. To get the future behavior, use `series.loc[i:j]`.\n",
      "  metrics_test = timeseries_evaluation_metrics_func(test['nat_demand'][:horizon],Predicted_results_Inv_trans)\n"
     ]
    },
    {
     "data": {
      "image/png": "[encoded data removed]",
      "text/plain": [
       "<Figure size 640x480 with 1 Axes>"
      ]
     },
     "metadata": {},
     "output_type": "display_data"
    }
   ],
   "source": [
    "tf.keras.backend.clear_session()\n",
    "ED_lstm_model = tf.keras.models.Sequential([\n",
    "    tf.keras.layers.LSTM(40, input_shape=x_train_multi.shape[-2:], return_sequences=True),\n",
    "    tf.keras.layers.LSTM(units=20,return_sequences=True),\n",
    "    tf.keras.layers.LSTM(units=15),\n",
    "    tf.keras.layers.RepeatVector(y_train_multi.shape[1]), \n",
    "    tf.keras.layers.LSTM(units=40,return_sequences=True),\n",
    "    tf.keras.layers.LSTM(units=25,return_sequences=True),\n",
    "    tf.keras.layers.TimeDistributed(tf.keras.layers.Dense(units=1))\n",
    "])\n",
    "ED_lstm_model.compile(optimizer='adam', loss='mse')\n",
    "\n",
    "folder_save = f\"../Results/Encoder_Decoder_LSTM/history_{hist_window}_future_{horizon}_version_{version}\"\n",
    "isExist = os.path.exists(folder_save)\n",
    "if not isExist:\n",
    "   # Create a new directory because it does not exist\n",
    "   os.makedirs(folder_save)\n",
    "   print(\"The new directory is created!\")\n",
    "\n",
    "model_path = f'{folder_save}/model.h5' \n",
    "\n",
    "with open(f\"{folder_save}/model_config.json\", \"w\") as outfile:\n",
    "    json.dump(ED_lstm_model.get_config(), outfile)\n",
    "\n",
    "EVALUATION_INTERVAL = 100\n",
    "EPOCHS = 150\n",
    "history = ED_lstm_model.fit(train_data_multi, epochs=EPOCHS, steps_per_epoch=EVALUATION_INTERVAL, \n",
    "                         validation_data=val_data_multi, validation_steps=50, verbose=1,\n",
    "                         callbacks=[tf.keras.callbacks.EarlyStopping(monitor='val_loss', \n",
    "                                                                     min_delta=0, patience=15, \n",
    "                                                                     verbose=1, mode='min'), \n",
    "                                    tf.keras.callbacks.ModelCheckpoint(model_path, monitor='val_loss', \n",
    "                                                                       save_best_only=True,\n",
    "                                                                       mode='min', verbose=0)])\n",
    "\n",
    "Trained_model = tf.keras.models.load_model(model_path)\n",
    "\n",
    "plt.plot(history.history['loss'])\n",
    "plt.plot(history.history['val_loss'])\n",
    "plt.title('Model loss')\n",
    "plt.ylabel('loss')\n",
    "plt.xlabel('epoch')\n",
    "plt.legend(['train loss', 'validation loss'], loc='upper left')\n",
    "plt.rcParams[\"figure.figsize\"] = [16,9]\n",
    "plt.savefig(f'{folder_save}/history_loss.pdf', bbox_inches='tight')\n",
    "plt.savefig(f'{folder_save}/history_loss.svg', bbox_inches='tight')\n",
    "history_loss = [list(a) for a in zip(history.history['loss'], history.history['val_loss'])]\n",
    "df_loss = pd.DataFrame(history_loss, columns =['loss', 'val_loss']) \n",
    "df_loss.to_csv(f'{folder_save}/history_loss.csv')\n",
    "\n",
    "data_test = x_scaler.fit_transform(valid[column_names].tail(hist_window))\n",
    "test_rescaled = data_test.reshape(1, data_test.shape[0], data_test.shape[1])\n",
    "\n",
    "Predicted_results = Trained_model.predict(test_rescaled)\n",
    "Predicted_results_Inv_trans = y_scaler.inverse_transform(Predicted_results.reshape(-1,1))\n",
    "metrics_test = timeseries_evaluation_metrics_func(test['nat_demand'][:horizon],Predicted_results_Inv_trans)\n",
    "\n",
    "with open(f\"{folder_save}/metrics_test.json\", \"w\") as outfile:\n",
    "    json.dump(metrics_test, outfile)"
   ]
  },
  {
   "cell_type": "code",
   "execution_count": 5,
   "id": "d76e948f",
   "metadata": {},
   "outputs": [
    {
     "name": "stdout",
     "output_type": "stream",
     "text": [
      "1/1 [==============================] - 0s 24ms/step\n",
      "Evaluation metric results:-\n",
      "MSE is : 45293.670768508775\n",
      "MAE is : 175.8685947672526\n",
      "RMSE is : 212.823097356722\n",
      "MAPE is : 15.519025269569095\n",
      "R2 is : -0.10254163835836794\n",
      "\n"
     ]
    },
    {
     "name": "stderr",
     "output_type": "stream",
     "text": [
      "/tmp/ipykernel_7112/1127158969.py:6: FutureWarning: The behavior of `series[i:j]` with an integer-dtype index is deprecated. In a future version, this will be treated as *label-based* indexing, consistent with e.g. `series[i]` lookups. To retain the old behavior, use `series.iloc[i:j]`. To get the future behavior, use `series.loc[i:j]`.\n",
      "  metrics_test = timeseries_evaluation_metrics_func(test['nat_demand'][:horizon],Predicted_results_Inv_trans)\n"
     ]
    }
   ],
   "source": [
    "data_test = x_scaler.fit_transform(valid[column_names].tail(hist_window))\n",
    "test_rescaled = data_test.reshape(1, data_test.shape[0], data_test.shape[1])\n",
    "\n",
    "Predicted_results = Trained_model.predict(test_rescaled)\n",
    "Predicted_results_Inv_trans = y_scaler.inverse_transform(Predicted_results.reshape(-1,1))\n",
    "metrics_test = timeseries_evaluation_metrics_func(test['nat_demand'][:horizon],Predicted_results_Inv_trans)\n",
    "\n",
    "with open(f\"{folder_save}/metrics_test.json\", \"w\") as outfile:\n",
    "    json.dump(metrics_test, outfile)"
   ]
  },
  {
   "cell_type": "code",
   "execution_count": null,
   "id": "747a9150",
   "metadata": {},
   "outputs": [],
   "source": []
  },
  {
   "cell_type": "code",
   "execution_count": null,
   "id": "ec8d984c",
   "metadata": {},
   "outputs": [],
   "source": []
  },
  {
   "cell_type": "code",
   "execution_count": null,
   "id": "7bd9fdbb",
   "metadata": {},
   "outputs": [],
   "source": []
  },
  {
   "cell_type": "code",
   "execution_count": null,
   "id": "14a82d5f",
   "metadata": {},
   "outputs": [],
   "source": []
  }
 ],
 "metadata": {
  "kernelspec": {
   "display_name": "Python 3.10.6 64-bit",
   "language": "python",
   "name": "python3"
  },
  "language_info": {
   "codemirror_mode": {
    "name": "ipython",
    "version": 3
   },
   "file_extension": ".py",
   "mimetype": "text/x-python",
   "name": "python",
   "nbconvert_exporter": "python",
   "pygments_lexer": "ipython3",
   "version": "3.10.6"
  },
  "vscode": {
   "interpreter": {
    "hash": "916dbcbb3f70747c44a77c7bcd40155683ae19c65e1c03b4aa3499c5328201f1"
   }
  }
 },
 "nbformat": 4,
 "nbformat_minor": 5
}
