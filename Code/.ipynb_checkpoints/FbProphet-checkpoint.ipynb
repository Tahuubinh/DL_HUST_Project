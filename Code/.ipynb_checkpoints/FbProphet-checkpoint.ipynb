{
 "cells": [
  {
   "cell_type": "code",
   "execution_count": 10,
   "id": "c05f369b",
   "metadata": {},
   "outputs": [],
   "source": [
    "import warnings\n",
    "import pandas as pd\n",
    "import numpy as np\n",
    "import matplotlib.pyplot as plt\n",
    "from sklearn import metrics\n",
    "from fbprophet import Prophet\n",
    "import json \n",
    "import os\n",
    "from statsmodels.tsa.api import VAR\n",
    "from statsmodels.tsa.stattools import adfuller\n",
    "from timeit import default_timer as timer\n",
    "import warnings\n",
    "warnings.filterwarnings(\"ignore\")\n",
    "import pickle\n",
    "pkl_path = r\"..\\Results\\FbProphet\\Prophet.pkl\"\n",
    "\n",
    "def timeseries_evaluation_metrics_func(y_true, y_pred):\n",
    "    \n",
    "    def mean_absolute_percentage_error(y_true, y_pred): \n",
    "        y_true, y_pred = np.array(y_true), np.array(y_pred)\n",
    "        return np.mean(np.abs((y_true - y_pred) / y_true)) * 100\n",
    "    print('Evaluation metric results:-')\n",
    "    mse = metrics.mean_squared_error(y_true, y_pred)\n",
    "    mae = metrics.mean_absolute_error(y_true, y_pred)\n",
    "    rmse = np.sqrt(metrics.mean_squared_error(y_true, y_pred))\n",
    "    mape = mean_absolute_percentage_error(y_true, y_pred)\n",
    "    r2 = metrics.r2_score(y_true, y_pred)\n",
    "    print(f'MSE is : {mse}')\n",
    "    print(f'MAE is : {mae}')\n",
    "    print(f'RMSE is : {rmse}')\n",
    "    print(f'MAPE is : {mape}')\n",
    "    print(f'R2 is : {r2}',end='\\n\\n')\n",
    "    return {'mse' : mse, 'mae' : mae, 'rmse' : rmse, 'mape' : mape, 'r2' : r2}\n",
    "\n",
    "df = pd.read_csv(r'..\\Data\\Panama Electricity\\continuous_dataset_preprocessing.csv', parse_dates= True)\n",
    "# df[\"datetime\"] = df[\"datetime\"].apply(pd.to_datetime)\n",
    "df['datetime'] = pd.to_datetime(df['datetime'])\n",
    "df = df.rename(columns={'datetime': 'ds', 'nat_demand': 'y'})\n",
    "\n",
    "\n",
    "column_names = df.columns.tolist()\n",
    "train_column_names = df.columns.tolist()\n",
    "column_names.remove('ds')\n",
    "train_column_names.remove('ds')\n",
    "train_column_names.remove('y')"
   ]
  },
  {
   "cell_type": "code",
   "execution_count": 12,
   "id": "55e6e7aa",
   "metadata": {},
   "outputs": [],
   "source": [
    "# valid = df[df['datetime'] <= '1/1/2019 23:00']\n",
    "# valid = valid[valid['datetime'] > '1/1/2018 23:00']\n",
    "train = df[df['ds'] <= '1/1/2019 23:00']\n",
    "test = df[df['ds'] > '1/1/2019 23:00']"
   ]
  },
  {
   "cell_type": "code",
   "execution_count": 13,
   "id": "4b977735",
   "metadata": {},
   "outputs": [],
   "source": [
    "m = Prophet( yearly_seasonality=True)\n",
    "for i in train_column_names:\n",
    "    m.add_regressor(i)"
   ]
  },
  {
   "cell_type": "code",
   "execution_count": 15,
   "id": "d6fc7e6d",
   "metadata": {},
   "outputs": [
    {
     "name": "stderr",
     "output_type": "stream",
     "text": [
      "D:\\Programming\\Anaconda\\envs\\DL_project\\lib\\site-packages\\fbprophet\\forecaster.py:891: FutureWarning: The frame.append method is deprecated and will be removed from pandas in a future version. Use pandas.concat instead.\n",
      "  components = components.append(new_comp)\n"
     ]
    },
    {
     "data": {
      "text/plain": [
       "<fbprophet.forecaster.Prophet at 0x1fc8ef71f10>"
      ]
     },
     "execution_count": 15,
     "metadata": {},
     "output_type": "execute_result"
    }
   ],
   "source": [
    "m.fit(train)"
   ]
  },
  {
   "cell_type": "code",
   "execution_count": 14,
   "id": "ac4d032f",
   "metadata": {},
   "outputs": [
    {
     "data": {
      "text/plain": [
       "['T2M_toc',\n",
       " 'QV2M_toc',\n",
       " 'TQL_toc',\n",
       " 'W2M_toc',\n",
       " 'T2M_san',\n",
       " 'QV2M_san',\n",
       " 'TQL_san',\n",
       " 'W2M_san',\n",
       " 'T2M_dav',\n",
       " 'QV2M_dav',\n",
       " 'TQL_dav',\n",
       " 'W2M_dav',\n",
       " 'holiday',\n",
       " 'school']"
      ]
     },
     "execution_count": 14,
     "metadata": {},
     "output_type": "execute_result"
    }
   ],
   "source": [
    "train_column_names"
   ]
  },
  {
   "cell_type": "code",
   "execution_count": 18,
   "id": "4140bad6",
   "metadata": {},
   "outputs": [],
   "source": [
    "import pickle\n",
    "pkl_path = r\"..\\Results\\FbProphet\\Prophet.pkl\"\n",
    "\n",
    "with open(pkl_path, \"wb\") as f:\n",
    "    # Pickle the 'Prophet' model using the highest protocol available.\n",
    "    pickle.dump(m, f)"
   ]
  },
  {
   "cell_type": "code",
   "execution_count": null,
   "id": "36efe526",
   "metadata": {},
   "outputs": [],
   "source": [
    "with open(pkl_path, 'rb') as f:\n",
    "    m = pickle.load(f)"
   ]
  },
  {
   "cell_type": "code",
   "execution_count": 20,
   "id": "31955645",
   "metadata": {},
   "outputs": [],
   "source": [
    "p = 100\n",
    "future = m.make_future_dataframe(periods=p,freq='H',include_history=False)"
   ]
  },
  {
   "cell_type": "code",
   "execution_count": null,
   "id": "b4db0e58",
   "metadata": {},
   "outputs": [],
   "source": []
  },
  {
   "cell_type": "code",
   "execution_count": null,
   "id": "44b97792",
   "metadata": {},
   "outputs": [],
   "source": []
  },
  {
   "cell_type": "code",
   "execution_count": null,
   "id": "3ddb94e8",
   "metadata": {},
   "outputs": [],
   "source": []
  },
  {
   "cell_type": "code",
   "execution_count": null,
   "id": "2a1b922d",
   "metadata": {},
   "outputs": [],
   "source": []
  },
  {
   "cell_type": "code",
   "execution_count": 19,
   "id": "0ff325dd",
   "metadata": {},
   "outputs": [],
   "source": [
    "from statsmodels.tsa.api import VAR\n",
    "from statsmodels.tsa.stattools import adfuller\n",
    "from timeit import default_timer as timer\n",
    "import warnings\n",
    "warnings.filterwarnings(\"ignore\")"
   ]
  },
  {
   "cell_type": "code",
   "execution_count": null,
   "id": "729033a2",
   "metadata": {},
   "outputs": [],
   "source": []
  },
  {
   "cell_type": "code",
   "execution_count": null,
   "id": "94b3a37f",
   "metadata": {},
   "outputs": [],
   "source": []
  }
 ],
 "metadata": {
  "kernelspec": {
   "display_name": "Python 3 (ipykernel)",
   "language": "python",
   "name": "python3"
  },
  "language_info": {
   "codemirror_mode": {
    "name": "ipython",
    "version": 3
   },
   "file_extension": ".py",
   "mimetype": "text/x-python",
   "name": "python",
   "nbconvert_exporter": "python",
   "pygments_lexer": "ipython3",
   "version": "3.8.15"
  }
 },
 "nbformat": 4,
 "nbformat_minor": 5
}
